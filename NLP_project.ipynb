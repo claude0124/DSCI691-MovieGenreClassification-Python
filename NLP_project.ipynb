{
  "nbformat": 4,
  "nbformat_minor": 0,
  "metadata": {
    "kernelspec": {
      "display_name": "Python 3",
      "language": "python",
      "name": "python3"
    },
    "language_info": {
      "codemirror_mode": {
        "name": "ipython",
        "version": 3
      },
      "file_extension": ".py",
      "mimetype": "text/x-python",
      "name": "python",
      "nbconvert_exporter": "python",
      "pygments_lexer": "ipython3",
      "version": "3.7.9"
    },
    "colab": {
      "name": "NLP  project.ipynb",
      "provenance": [],
      "collapsed_sections": []
    },
    "accelerator": "GPU"
  },
  "cells": [
    {
      "cell_type": "markdown",
      "metadata": {
        "id": "1IwXiwP42QIu"
      },
      "source": [
        "**Project Title: IMDb movie genre classifier with LSTM**"
      ]
    },
    {
      "cell_type": "markdown",
      "metadata": {
        "id": "jMSxQBUN0kiW"
      },
      "source": [
        "**Project group:**\n",
        "\n",
        "Group member 1\n",
        "Name: Daniela Raygadas -- Email: dr976@drexel.edu\n",
        "\n",
        "Group member 2\n",
        "Name: Om Prakash Singh -- Email: os338@drexel.edu\n",
        "\n",
        "Group member 3\n",
        "Name: Dayun Piao  -- Email: dp636@drexel.edu\n",
        "\n",
        "Group member 4\n",
        "Name: Hari Prasad Kotapalli -- Email: hk672@drexel.edu"
      ]
    },
    {
      "cell_type": "markdown",
      "metadata": {
        "id": "HfCo8TnQ0p3i"
      },
      "source": [
        "\n",
        "**Introduction**:\n",
        "\n",
        "A class of category of artistic endeavour having a particular form, content, technique or the like, as far as a video content is concerned. Movie-genre is the name we use to describe the categories that have developed overtime for what we read, what we watch, what we listen to, and the kinds of classification that exists in wide range of IMDB movie collections.\n",
        "\n",
        "\n",
        "In this wide collection of international movies, there exists a sub-classification of Objective and Subjective:\n",
        "\n",
        "1. Objective Genres: These are not influenced by personal feelings or opinions in considering and representing facts. These are hard coded to the set rules of our guidelines.\n",
        "\n",
        "2. Subjective Genres: These are common in most modern films and may be influenced by viewer opinions, interpretations, points of view, emotions, and judgement.\n",
        " \n",
        "\n",
        "The different film genres and television categories which are broadly in use: Action, Adventure, Comedy, drama, fantasy, historical epic, horror, musical, romance, science fiction, thriller, war & documentary. \n",
        "\n"
      ]
    },
    {
      "cell_type": "markdown",
      "metadata": {
        "id": "TGChZ7MU0vo7"
      },
      "source": [
        "**Project Aim:**\n",
        "\n",
        "Our goal for this project was to produce a genre classifier based on the deep learning architecture of LSTMs. The pipeline of this text classification model could fit in other applications such as categorizing books into different genres according to book description or abstract. Or any other general text data classification task with given sets of labels. \n",
        "\n",
        "1. Multi-class text classification\n",
        "2. LSTM - Long Short Term Memory networks\n",
        "3. Keras as Framework \n",
        "4. Glove & Sequential models"
      ]
    },
    {
      "cell_type": "code",
      "metadata": {
        "colab": {
          "base_uri": "https://localhost:8080/"
        },
        "id": "df_lrueLHGhn",
        "outputId": "8ee7c314-94be-4860-8787-2ef33309fd60"
      },
      "source": [
        "from google.colab import drive\n",
        "drive.mount('/content/drive')"
      ],
      "execution_count": null,
      "outputs": [
        {
          "output_type": "stream",
          "text": [
            "Mounted at /content/drive\n"
          ],
          "name": "stdout"
        }
      ]
    },
    {
      "cell_type": "code",
      "metadata": {
        "id": "d6AM7QwjHFWv"
      },
      "source": [
        "import pandas as pd\n",
        "import matplotlib.pyplot as plt\n",
        "import numpy as np\n",
        "%matplotlib inline\n",
        "from sklearn.model_selection import train_test_split"
      ],
      "execution_count": null,
      "outputs": []
    },
    {
      "cell_type": "code",
      "metadata": {
        "id": "L0tq0zXdHFW0"
      },
      "source": [
        "import keras\n",
        "from keras.models import Sequential\n",
        "from keras.layers import Dense, Dropout, Activation, Embedding, LSTM, SpatialDropout1D\n",
        "from keras.preprocessing.text import Tokenizer\n",
        "from keras.preprocessing.text import text_to_word_sequence\n",
        "from keras.preprocessing import sequence\n",
        "from keras.preprocessing.sequence import pad_sequences\n",
        "from keras import callbacks"
      ],
      "execution_count": null,
      "outputs": []
    },
    {
      "cell_type": "code",
      "metadata": {
        "colab": {
          "base_uri": "https://localhost:8080/"
        },
        "id": "JM-5KQ7HHFW2",
        "outputId": "56513b78-9c4a-48f9-d71e-d8330ace4987"
      },
      "source": [
        "##Loading dataset\n",
        "\n",
        "df = pd.read_csv('/content/drive/My Drive/DSCI691_Project/IMDb_movies.csv') "
      ],
      "execution_count": null,
      "outputs": [
        {
          "output_type": "stream",
          "text": [
            "/usr/local/lib/python3.7/dist-packages/IPython/core/interactiveshell.py:2718: DtypeWarning: Columns (3) have mixed types.Specify dtype option on import or set low_memory=False.\n",
            "  interactivity=interactivity, compiler=compiler, result=result)\n"
          ],
          "name": "stderr"
        }
      ]
    },
    {
      "cell_type": "markdown",
      "metadata": {
        "id": "lqGgwRqxfQnd"
      },
      "source": [
        "The IMDB movies dataset has in total 85,855 rows and 23 columns. Each row corresponds to a movie and the columns describe different attributes of the movies such as the title, year, data_published, genre, duration and many others. "
      ]
    },
    {
      "cell_type": "code",
      "metadata": {
        "colab": {
          "base_uri": "https://localhost:8080/"
        },
        "id": "AfT_54DcfNTf",
        "outputId": "a589f692-a501-42d5-d7e2-c38b02f84d1d"
      },
      "source": [
        "df.shape"
      ],
      "execution_count": null,
      "outputs": [
        {
          "output_type": "execute_result",
          "data": {
            "text/plain": [
              "(85855, 22)"
            ]
          },
          "metadata": {
            "tags": []
          },
          "execution_count": 7
        }
      ]
    },
    {
      "cell_type": "code",
      "metadata": {
        "id": "IHhZIHBGHFW3",
        "colab": {
          "base_uri": "https://localhost:8080/",
          "height": 408
        },
        "outputId": "5fa33b2b-fee7-408a-fa35-69f975318f49"
      },
      "source": [
        "df.head(3)"
      ],
      "execution_count": null,
      "outputs": [
        {
          "output_type": "execute_result",
          "data": {
            "text/html": [
              "<div>\n",
              "<style scoped>\n",
              "    .dataframe tbody tr th:only-of-type {\n",
              "        vertical-align: middle;\n",
              "    }\n",
              "\n",
              "    .dataframe tbody tr th {\n",
              "        vertical-align: top;\n",
              "    }\n",
              "\n",
              "    .dataframe thead th {\n",
              "        text-align: right;\n",
              "    }\n",
              "</style>\n",
              "<table border=\"1\" class=\"dataframe\">\n",
              "  <thead>\n",
              "    <tr style=\"text-align: right;\">\n",
              "      <th></th>\n",
              "      <th>imdb_title_id</th>\n",
              "      <th>title</th>\n",
              "      <th>original_title</th>\n",
              "      <th>year</th>\n",
              "      <th>date_published</th>\n",
              "      <th>genre</th>\n",
              "      <th>duration</th>\n",
              "      <th>country</th>\n",
              "      <th>language</th>\n",
              "      <th>director</th>\n",
              "      <th>writer</th>\n",
              "      <th>production_company</th>\n",
              "      <th>actors</th>\n",
              "      <th>description</th>\n",
              "      <th>avg_vote</th>\n",
              "      <th>votes</th>\n",
              "      <th>budget</th>\n",
              "      <th>usa_gross_income</th>\n",
              "      <th>worlwide_gross_income</th>\n",
              "      <th>metascore</th>\n",
              "      <th>reviews_from_users</th>\n",
              "      <th>reviews_from_critics</th>\n",
              "    </tr>\n",
              "  </thead>\n",
              "  <tbody>\n",
              "    <tr>\n",
              "      <th>0</th>\n",
              "      <td>tt0000009</td>\n",
              "      <td>Miss Jerry</td>\n",
              "      <td>Miss Jerry</td>\n",
              "      <td>1894</td>\n",
              "      <td>1894-10-09</td>\n",
              "      <td>Romance</td>\n",
              "      <td>45</td>\n",
              "      <td>USA</td>\n",
              "      <td>None</td>\n",
              "      <td>Alexander Black</td>\n",
              "      <td>Alexander Black</td>\n",
              "      <td>Alexander Black Photoplays</td>\n",
              "      <td>Blanche Bayliss, William Courtenay, Chauncey D...</td>\n",
              "      <td>The adventures of a female reporter in the 1890s.</td>\n",
              "      <td>5.9</td>\n",
              "      <td>154</td>\n",
              "      <td>NaN</td>\n",
              "      <td>NaN</td>\n",
              "      <td>NaN</td>\n",
              "      <td>NaN</td>\n",
              "      <td>1.0</td>\n",
              "      <td>2.0</td>\n",
              "    </tr>\n",
              "    <tr>\n",
              "      <th>1</th>\n",
              "      <td>tt0000574</td>\n",
              "      <td>The Story of the Kelly Gang</td>\n",
              "      <td>The Story of the Kelly Gang</td>\n",
              "      <td>1906</td>\n",
              "      <td>1906-12-26</td>\n",
              "      <td>Biography, Crime, Drama</td>\n",
              "      <td>70</td>\n",
              "      <td>Australia</td>\n",
              "      <td>None</td>\n",
              "      <td>Charles Tait</td>\n",
              "      <td>Charles Tait</td>\n",
              "      <td>J. and N. Tait</td>\n",
              "      <td>Elizabeth Tait, John Tait, Norman Campbell, Be...</td>\n",
              "      <td>True story of notorious Australian outlaw Ned ...</td>\n",
              "      <td>6.1</td>\n",
              "      <td>589</td>\n",
              "      <td>$ 2250</td>\n",
              "      <td>NaN</td>\n",
              "      <td>NaN</td>\n",
              "      <td>NaN</td>\n",
              "      <td>7.0</td>\n",
              "      <td>7.0</td>\n",
              "    </tr>\n",
              "    <tr>\n",
              "      <th>2</th>\n",
              "      <td>tt0001892</td>\n",
              "      <td>Den sorte drøm</td>\n",
              "      <td>Den sorte drøm</td>\n",
              "      <td>1911</td>\n",
              "      <td>1911-08-19</td>\n",
              "      <td>Drama</td>\n",
              "      <td>53</td>\n",
              "      <td>Germany, Denmark</td>\n",
              "      <td>NaN</td>\n",
              "      <td>Urban Gad</td>\n",
              "      <td>Urban Gad, Gebhard Schätzler-Perasini</td>\n",
              "      <td>Fotorama</td>\n",
              "      <td>Asta Nielsen, Valdemar Psilander, Gunnar Helse...</td>\n",
              "      <td>Two men of high rank are both wooing the beaut...</td>\n",
              "      <td>5.8</td>\n",
              "      <td>188</td>\n",
              "      <td>NaN</td>\n",
              "      <td>NaN</td>\n",
              "      <td>NaN</td>\n",
              "      <td>NaN</td>\n",
              "      <td>5.0</td>\n",
              "      <td>2.0</td>\n",
              "    </tr>\n",
              "  </tbody>\n",
              "</table>\n",
              "</div>"
            ],
            "text/plain": [
              "  imdb_title_id  ... reviews_from_critics\n",
              "0     tt0000009  ...                  2.0\n",
              "1     tt0000574  ...                  7.0\n",
              "2     tt0001892  ...                  2.0\n",
              "\n",
              "[3 rows x 22 columns]"
            ]
          },
          "metadata": {
            "tags": []
          },
          "execution_count": 8
        }
      ]
    },
    {
      "cell_type": "markdown",
      "metadata": {
        "id": "SFNRy69HdyBI"
      },
      "source": [
        "After inspecting our dataset we observed that we can have multiple genres associated to a movie. For this project we decided to only focus on one genre per movie. Therefore, in the next step we have to do some preprocessing in which we only take the first genre and created a new column called first_label that describes the genre associated to that movie."
      ]
    },
    {
      "cell_type": "code",
      "metadata": {
        "id": "_YLmemGFHFW4"
      },
      "source": [
        "df[\"first_label\"] = df[\"genre\"].apply(lambda row: row if ',' not in row else row.split(',')[0])"
      ],
      "execution_count": null,
      "outputs": []
    },
    {
      "cell_type": "code",
      "metadata": {
        "id": "oMSaXbpfHFW4",
        "colab": {
          "base_uri": "https://localhost:8080/",
          "height": 408
        },
        "outputId": "aae1452d-ab23-455e-a8e4-717f40db2020"
      },
      "source": [
        "df.head(3)"
      ],
      "execution_count": null,
      "outputs": [
        {
          "output_type": "execute_result",
          "data": {
            "text/html": [
              "<div>\n",
              "<style scoped>\n",
              "    .dataframe tbody tr th:only-of-type {\n",
              "        vertical-align: middle;\n",
              "    }\n",
              "\n",
              "    .dataframe tbody tr th {\n",
              "        vertical-align: top;\n",
              "    }\n",
              "\n",
              "    .dataframe thead th {\n",
              "        text-align: right;\n",
              "    }\n",
              "</style>\n",
              "<table border=\"1\" class=\"dataframe\">\n",
              "  <thead>\n",
              "    <tr style=\"text-align: right;\">\n",
              "      <th></th>\n",
              "      <th>imdb_title_id</th>\n",
              "      <th>title</th>\n",
              "      <th>original_title</th>\n",
              "      <th>year</th>\n",
              "      <th>date_published</th>\n",
              "      <th>genre</th>\n",
              "      <th>duration</th>\n",
              "      <th>country</th>\n",
              "      <th>language</th>\n",
              "      <th>director</th>\n",
              "      <th>writer</th>\n",
              "      <th>production_company</th>\n",
              "      <th>actors</th>\n",
              "      <th>description</th>\n",
              "      <th>avg_vote</th>\n",
              "      <th>votes</th>\n",
              "      <th>budget</th>\n",
              "      <th>usa_gross_income</th>\n",
              "      <th>worlwide_gross_income</th>\n",
              "      <th>metascore</th>\n",
              "      <th>reviews_from_users</th>\n",
              "      <th>reviews_from_critics</th>\n",
              "      <th>first_label</th>\n",
              "    </tr>\n",
              "  </thead>\n",
              "  <tbody>\n",
              "    <tr>\n",
              "      <th>0</th>\n",
              "      <td>tt0000009</td>\n",
              "      <td>Miss Jerry</td>\n",
              "      <td>Miss Jerry</td>\n",
              "      <td>1894</td>\n",
              "      <td>1894-10-09</td>\n",
              "      <td>Romance</td>\n",
              "      <td>45</td>\n",
              "      <td>USA</td>\n",
              "      <td>None</td>\n",
              "      <td>Alexander Black</td>\n",
              "      <td>Alexander Black</td>\n",
              "      <td>Alexander Black Photoplays</td>\n",
              "      <td>Blanche Bayliss, William Courtenay, Chauncey D...</td>\n",
              "      <td>The adventures of a female reporter in the 1890s.</td>\n",
              "      <td>5.9</td>\n",
              "      <td>154</td>\n",
              "      <td>NaN</td>\n",
              "      <td>NaN</td>\n",
              "      <td>NaN</td>\n",
              "      <td>NaN</td>\n",
              "      <td>1.0</td>\n",
              "      <td>2.0</td>\n",
              "      <td>Romance</td>\n",
              "    </tr>\n",
              "    <tr>\n",
              "      <th>1</th>\n",
              "      <td>tt0000574</td>\n",
              "      <td>The Story of the Kelly Gang</td>\n",
              "      <td>The Story of the Kelly Gang</td>\n",
              "      <td>1906</td>\n",
              "      <td>1906-12-26</td>\n",
              "      <td>Biography, Crime, Drama</td>\n",
              "      <td>70</td>\n",
              "      <td>Australia</td>\n",
              "      <td>None</td>\n",
              "      <td>Charles Tait</td>\n",
              "      <td>Charles Tait</td>\n",
              "      <td>J. and N. Tait</td>\n",
              "      <td>Elizabeth Tait, John Tait, Norman Campbell, Be...</td>\n",
              "      <td>True story of notorious Australian outlaw Ned ...</td>\n",
              "      <td>6.1</td>\n",
              "      <td>589</td>\n",
              "      <td>$ 2250</td>\n",
              "      <td>NaN</td>\n",
              "      <td>NaN</td>\n",
              "      <td>NaN</td>\n",
              "      <td>7.0</td>\n",
              "      <td>7.0</td>\n",
              "      <td>Biography</td>\n",
              "    </tr>\n",
              "    <tr>\n",
              "      <th>2</th>\n",
              "      <td>tt0001892</td>\n",
              "      <td>Den sorte drøm</td>\n",
              "      <td>Den sorte drøm</td>\n",
              "      <td>1911</td>\n",
              "      <td>1911-08-19</td>\n",
              "      <td>Drama</td>\n",
              "      <td>53</td>\n",
              "      <td>Germany, Denmark</td>\n",
              "      <td>NaN</td>\n",
              "      <td>Urban Gad</td>\n",
              "      <td>Urban Gad, Gebhard Schätzler-Perasini</td>\n",
              "      <td>Fotorama</td>\n",
              "      <td>Asta Nielsen, Valdemar Psilander, Gunnar Helse...</td>\n",
              "      <td>Two men of high rank are both wooing the beaut...</td>\n",
              "      <td>5.8</td>\n",
              "      <td>188</td>\n",
              "      <td>NaN</td>\n",
              "      <td>NaN</td>\n",
              "      <td>NaN</td>\n",
              "      <td>NaN</td>\n",
              "      <td>5.0</td>\n",
              "      <td>2.0</td>\n",
              "      <td>Drama</td>\n",
              "    </tr>\n",
              "  </tbody>\n",
              "</table>\n",
              "</div>"
            ],
            "text/plain": [
              "  imdb_title_id                        title  ... reviews_from_critics first_label\n",
              "0     tt0000009                   Miss Jerry  ...                  2.0     Romance\n",
              "1     tt0000574  The Story of the Kelly Gang  ...                  7.0   Biography\n",
              "2     tt0001892               Den sorte drøm  ...                  2.0       Drama\n",
              "\n",
              "[3 rows x 23 columns]"
            ]
          },
          "metadata": {
            "tags": []
          },
          "execution_count": 10
        }
      ]
    },
    {
      "cell_type": "markdown",
      "metadata": {
        "id": "a_tZbaSqeZ0D"
      },
      "source": [
        "Next, for this project we are only interested in two columns, the description of the movie that we will be using to predict the genre of the movie and the first_label which is the actual genre that the movie is associated with and this label will help us evaluate the performance of our model"
      ]
    },
    {
      "cell_type": "code",
      "metadata": {
        "id": "tqcb63ywHFW5"
      },
      "source": [
        "complete_df = df[['first_label', 'description']] #Selecting only two columns for our project from df dataframe "
      ],
      "execution_count": null,
      "outputs": []
    },
    {
      "cell_type": "markdown",
      "metadata": {
        "id": "M0-orn5Ne25M"
      },
      "source": [
        "Moreover, we are also removing any movie that is missing a description as for this project we are interested in this particular column and we want to make sure we do not have any missing values. "
      ]
    },
    {
      "cell_type": "code",
      "metadata": {
        "id": "39A5kyUtHFW5"
      },
      "source": [
        "complete_df = complete_df.dropna(subset = ['description'])# removing records where the description is missing\n",
        "complete_df.reset_index(drop=True,inplace=True) # resetting the index of dataframe"
      ],
      "execution_count": null,
      "outputs": []
    },
    {
      "cell_type": "markdown",
      "metadata": {
        "id": "zeUN_s7IfHz1"
      },
      "source": [
        "After removing the missing values, there are 83,740 movies remaning in our dataset"
      ]
    },
    {
      "cell_type": "code",
      "metadata": {
        "scrolled": true,
        "id": "iRUS0NVpHFW6",
        "colab": {
          "base_uri": "https://localhost:8080/"
        },
        "outputId": "1b0d25cd-9b18-4708-d777-20d23f5e034b"
      },
      "source": [
        "complete_df.count"
      ],
      "execution_count": null,
      "outputs": [
        {
          "output_type": "execute_result",
          "data": {
            "text/plain": [
              "<bound method DataFrame.count of       first_label                                        description\n",
              "0         Romance  The adventures of a female reporter in the 1890s.\n",
              "1       Biography  True story of notorious Australian outlaw Ned ...\n",
              "2           Drama  Two men of high rank are both wooing the beaut...\n",
              "3           Drama  The fabled queen of Egypt's affair with Roman ...\n",
              "4       Adventure  Loosely adapted from Dante's Divine Comedy and...\n",
              "...           ...                                                ...\n",
              "83735       Drama  An unusual bond between a sixty year old Dalit...\n",
              "83736      Comedy  Manoharan is a poster artist struggling to fin...\n",
              "83737      Comedy  A psychiatric hospital patient pretends to be ...\n",
              "83738      Comedy  A middle-aged veterinary surgeon believes his ...\n",
              "83739       Drama  Pep, a 13-year-old boy, is in love with a girl...\n",
              "\n",
              "[83740 rows x 2 columns]>"
            ]
          },
          "metadata": {
            "tags": []
          },
          "execution_count": 13
        }
      ]
    },
    {
      "cell_type": "markdown",
      "metadata": {
        "id": "0Pd-wt-7oknB"
      },
      "source": [
        "**Data Pre-processing:**"
      ]
    },
    {
      "cell_type": "code",
      "metadata": {
        "id": "W0VFwBv4oj25"
      },
      "source": [
        ""
      ],
      "execution_count": null,
      "outputs": []
    },
    {
      "cell_type": "code",
      "metadata": {
        "id": "DhUsKFIYiQd7"
      },
      "source": [
        "import re\n",
        "\n",
        "def clean_text(x):\n",
        "  REPLACE_BY_SPACE_RE = re.compile('[/(){}\\[\\]\\|@,;-]')# special character \n",
        "  BAD_SYMBOLS_RE = re.compile('[^a-zA-z0-9\\s]') # alphanumeric charater\n",
        "  text = x.lower() # lower case\n",
        "\n",
        "  text = REPLACE_BY_SPACE_RE.sub('', text) # applying regex to subset the text.\n",
        "  text = BAD_SYMBOLS_RE.sub('', text)\n",
        "  return text                              # returning the final cleaned text"
      ],
      "execution_count": null,
      "outputs": []
    },
    {
      "cell_type": "code",
      "metadata": {
        "id": "RBtGFSKAjWzf"
      },
      "source": [
        "complete_df['description'] = complete_df['description'].apply(clean_text)"
      ],
      "execution_count": null,
      "outputs": []
    },
    {
      "cell_type": "markdown",
      "metadata": {
        "id": "UX6GQM1bgAvr"
      },
      "source": [
        "We next looked at how many movies we have belonging to the 23 movie genre present in our dataset. As we can see, we have a highly imbalanced dataset and a large number of classes to predict from. This could become a problem for our model as there are some classes that have very few instances as low as 2 instances. Therefore, we decided to explore both options and compare both models. One model having all 23 classes and the second model having only the classes with the most instances in this case we took the classes that had over 1000 instances which would leave us with 9 classes. \n"
      ]
    },
    {
      "cell_type": "code",
      "metadata": {
        "id": "OVSr3m2hHFW6",
        "colab": {
          "base_uri": "https://localhost:8080/"
        },
        "outputId": "817a39fa-4863-4ef5-bd6f-2eaf353a8e34"
      },
      "source": [
        "genre_counts = complete_df.first_label.value_counts() # counting the distribution of each genre instances\n",
        "genre_counts"
      ],
      "execution_count": null,
      "outputs": [
        {
          "output_type": "execute_result",
          "data": {
            "text/plain": [
              "Drama          24766\n",
              "Comedy         23297\n",
              "Action         12054\n",
              "Crime           5502\n",
              "Horror          5082\n",
              "Adventure       3522\n",
              "Animation       2063\n",
              "Biography       2034\n",
              "Thriller        1346\n",
              "Romance          740\n",
              "Western          616\n",
              "Family           607\n",
              "Mystery          588\n",
              "Fantasy          496\n",
              "Sci-Fi           415\n",
              "Musical          313\n",
              "War              102\n",
              "History           74\n",
              "Music             74\n",
              "Film-Noir         29\n",
              "Sport             16\n",
              "Adult              2\n",
              "Documentary        2\n",
              "Name: first_label, dtype: int64"
            ]
          },
          "metadata": {
            "tags": []
          },
          "execution_count": 17
        }
      ]
    },
    {
      "cell_type": "code",
      "metadata": {
        "id": "k1d5NCt_HFW6",
        "colab": {
          "base_uri": "https://localhost:8080/",
          "height": 302
        },
        "outputId": "d65f5386-5691-4e1e-b40a-bbcfb9e02d03"
      },
      "source": [
        "genre_counts.plot.barh()"
      ],
      "execution_count": null,
      "outputs": [
        {
          "output_type": "execute_result",
          "data": {
            "text/plain": [
              "<matplotlib.axes._subplots.AxesSubplot at 0x7f8633f93990>"
            ]
          },
          "metadata": {
            "tags": []
          },
          "execution_count": 18
        },
        {
          "output_type": "display_data",
          "data": {
            "image/png": "[encoded data removed]",
            "text/plain": [
              "<Figure size 432x288 with 1 Axes>"
            ]
          },
          "metadata": {
            "tags": [],
            "needs_background": "light"
          }
        }
      ]
    },
    {
      "cell_type": "markdown",
      "metadata": {
        "id": "r_gy_OsYUgXO"
      },
      "source": [
        "We then looked at the description length distribution. "
      ]
    },
    {
      "cell_type": "code",
      "metadata": {
        "id": "lIavm3LZHFW7",
        "colab": {
          "base_uri": "https://localhost:8080/",
          "height": 480
        },
        "outputId": "7ce98f8a-c821-478e-fb72-3f70a37e0887"
      },
      "source": [
        "def get_description_len(x): \n",
        "    return len(x.split())            # spliting the parameters value \n",
        "\n",
        "complete_df['len'] = complete_df.description.apply(get_description_len) # finding the lenth of description\n",
        "complete_df['len'].plot(kind='hist')                                    # ploting length\n",
        "plt.title('histogram of show description word length')   #title label\n",
        "plt.xlabel('word length')                                # x-axis label \n",
        "plt.show()\n",
        "for i in np.arange(0.9,1,0.01):                                # on range 0.9 to 1 with incremental of .01\n",
        "    p = complete_df.len.quantile(i)                            # \n",
        "    print(f'word length at {int(i*100)} percentile:',p)        # printing word length on percentile"
      ],
      "execution_count": null,
      "outputs": [
        {
          "output_type": "display_data",
          "data": {
            "image/png": "[encoded data removed]",
            "text/plain": [
              "<Figure size 432x288 with 1 Axes>"
            ]
          },
          "metadata": {
            "tags": [],
            "needs_background": "light"
          }
        },
        {
          "output_type": "stream",
          "text": [
            "word length at 90 percentile: 37.0\n",
            "word length at 91 percentile: 38.0\n",
            "word length at 92 percentile: 38.0\n",
            "word length at 93 percentile: 39.0\n",
            "word length at 94 percentile: 39.0\n",
            "word length at 95 percentile: 40.0\n",
            "word length at 96 percentile: 41.0\n",
            "word length at 97 percentile: 42.0\n",
            "word length at 98 percentile: 43.0\n",
            "word length at 99 percentile: 44.0\n"
          ],
          "name": "stdout"
        }
      ]
    },
    {
      "cell_type": "markdown",
      "metadata": {
        "id": "ywqPWktoVuDk"
      },
      "source": [
        "Our reduced dataframe contains the 9 classes that have over 1000 instances. And we would be using this data to build our final model. "
      ]
    },
    {
      "cell_type": "code",
      "metadata": {
        "colab": {
          "base_uri": "https://localhost:8080/"
        },
        "id": "E5NI0VAwXlaA",
        "outputId": "9929e085-5f16-41d1-c0f2-597eb6ef3ae0"
      },
      "source": [
        "most_count_labels = ['Drama','Comedy','Action','Crime','Horror','Adventure','Animation','Biography','Thriller']  # list of column name \n",
        "reduced_df = complete_df[complete_df['first_label'].isin(most_count_labels)]      # only taking the column which is in most column label i.e over 1000 instances \n",
        "reduced_df.first_label.value_counts()     # counting the occurence of instances with each label(genre) "
      ],
      "execution_count": null,
      "outputs": [
        {
          "output_type": "execute_result",
          "data": {
            "text/plain": [
              "Drama        24766\n",
              "Comedy       23297\n",
              "Action       12054\n",
              "Crime         5502\n",
              "Horror        5082\n",
              "Adventure     3522\n",
              "Animation     2063\n",
              "Biography     2034\n",
              "Thriller      1346\n",
              "Name: first_label, dtype: int64"
            ]
          },
          "metadata": {
            "tags": []
          },
          "execution_count": 20
        }
      ]
    },
    {
      "cell_type": "markdown",
      "metadata": {
        "id": "UqbgxlYB-g4m"
      },
      "source": [
        "Now let's vectorize the movie description and convert it from text to a sequence of numbers. The sequence of numbers are determined from above EDA on description length distribution. At length of 44 represents about 99% of all the description. Embedding dimension is set at 100. "
      ]
    },
    {
      "cell_type": "code",
      "metadata": {
        "id": "N5nMW5atHFW8"
      },
      "source": [
        "# Max number of words in each description.\n",
        "MAX_SEQUENCE_LENGTH = 44\n",
        "EMBEDDING_DIM = 100"
      ],
      "execution_count": null,
      "outputs": []
    },
    {
      "cell_type": "markdown",
      "metadata": {
        "id": "03xYzIvmCGN3"
      },
      "source": [
        "fit_on_texts updates internal vocabulary based on a series of tests in 'description', word_index is the vocabulary set for all the unique words in all the descriptions. Each token is associated with an index. "
      ]
    },
    {
      "cell_type": "code",
      "metadata": {
        "id": "cCLThKvzHFW8",
        "colab": {
          "base_uri": "https://localhost:8080/"
        },
        "outputId": "bfdf93bf-3d1d-4603-c635-1ce815456786"
      },
      "source": [
        "tokenizer = Tokenizer()\n",
        "tokenizer.fit_on_texts(complete_df['description'].values)\n",
        "word_index = tokenizer.word_index\n",
        "print('Found %s unique tokens.' % len(word_index))"
      ],
      "execution_count": null,
      "outputs": [
        {
          "output_type": "stream",
          "text": [
            "Found 81764 unique tokens.\n"
          ],
          "name": "stdout"
        }
      ]
    },
    {
      "cell_type": "markdown",
      "metadata": {
        "id": "HYfT-8jJGZDb"
      },
      "source": [
        "tests_to_sequences converts text in description to integers based on results from fit_on_texts. Fit tokenizer once and sequence many later on. Keeping all the text in the same length of 44 using pad_sequences. Truncating longer text and padding shorter text with zeros."
      ]
    },
    {
      "cell_type": "code",
      "metadata": {
        "id": "8Y8m4TWiHFW9",
        "colab": {
          "base_uri": "https://localhost:8080/"
        },
        "outputId": "7fde6a32-7d78-4b10-8ec2-3c5c6a2e7e37"
      },
      "source": [
        "text = tokenizer.texts_to_sequences(complete_df['description'].values)\n",
        "text = pad_sequences(text, maxlen = MAX_SEQUENCE_LENGTH)\n",
        "print('Shape of data tensor:', text.shape)"
      ],
      "execution_count": null,
      "outputs": [
        {
          "output_type": "stream",
          "text": [
            "Shape of data tensor: (83740, 44)\n"
          ],
          "name": "stdout"
        }
      ]
    },
    {
      "cell_type": "markdown",
      "metadata": {
        "id": "EC5FN8fkHl05"
      },
      "source": [
        "Converting labels from categorical values into numbers by using pd.get_dummies which simply using indicator numerical variables to indicate the labels "
      ]
    },
    {
      "cell_type": "code",
      "metadata": {
        "id": "HVeLy-X4HFW9",
        "colab": {
          "base_uri": "https://localhost:8080/"
        },
        "outputId": "5cf5be93-8a24-496a-c57a-52ed9aec7749"
      },
      "source": [
        "label = pd.get_dummies(complete_df['first_label']).values\n",
        "label_names = list(pd.get_dummies(complete_df['first_label']).columns)\n",
        "print(len(label_names))\n",
        "print('Shape of label:', label.shape)"
      ],
      "execution_count": null,
      "outputs": [
        {
          "output_type": "stream",
          "text": [
            "23\n",
            "Shape of label: (83740, 23)\n"
          ],
          "name": "stdout"
        }
      ]
    },
    {
      "cell_type": "markdown",
      "metadata": {
        "id": "UtduHVPxIBqI"
      },
      "source": [
        "The whole dataset are split to train and test with random_state of 42 to make it reproducible, stratify of label to make sure split proportionally per label."
      ]
    },
    {
      "cell_type": "code",
      "metadata": {
        "id": "S7thknxhHFW9",
        "colab": {
          "base_uri": "https://localhost:8080/"
        },
        "outputId": "0ea7a1c0-e5f8-4e37-fbff-c37895bab91d"
      },
      "source": [
        "x_train, x_test, y_train, y_test = train_test_split(text, label, test_size = 0.2, random_state = 42, stratify = label)\n",
        "print(f\"train shape -- x: {x_train.shape}, y: {y_train.shape}\")\n",
        "print(f\"test shape -- x: {x_test.shape}, y: {y_test.shape}\")"
      ],
      "execution_count": null,
      "outputs": [
        {
          "output_type": "stream",
          "text": [
            "train shape -- x: (66992, 44), y: (66992, 23)\n",
            "test shape -- x: (16748, 44), y: (16748, 23)\n"
          ],
          "name": "stdout"
        }
      ]
    },
    {
      "cell_type": "markdown",
      "metadata": {
        "id": "OkzC7_AxJ-m3"
      },
      "source": [
        "The structure of LSTM model:\n",
        "\n",
        "*   Embedding: The first layer is embedding layer with embedding dimension of 100 represents each word.\n",
        "*   SpatialDropout1D: Performs spatial 1D verision of dropout in the model and drops entire 1D feature maps instead of individual elements\n",
        "*   LSTM: LSTM layer with 100 memory units\n",
        "*   Dense: a output layer that will have 23 outcomes per class and activation function of Softmax for multi-class classification\n",
        "*   Loss: categorical_crossentropy is chosen for multi-class classification\n",
        "\n",
        "\n",
        "\n",
        "\n"
      ]
    },
    {
      "cell_type": "code",
      "metadata": {
        "id": "iLU1-9PfHFW-",
        "colab": {
          "base_uri": "https://localhost:8080/"
        },
        "outputId": "58605a85-53fc-495e-a1bc-9faa1f2d0a87"
      },
      "source": [
        "model = Sequential()\n",
        "model.add(Embedding(len(word_index)+1, EMBEDDING_DIM, input_length = text.shape[1]))\n",
        "model.add(SpatialDropout1D(0.2))\n",
        "model.add(LSTM(100, dropout = 0.2, recurrent_dropout = 0.2))\n",
        "model.add(Dense(23, activation = 'softmax'))\n",
        "# opt = keras.optimizers.Adam(learning_rate = 0.001)\n",
        "model.compile(loss = 'categorical_crossentropy', optimizer = 'adam', metrics = ['accuracy'])\n",
        "\n",
        "epochs = 10\n",
        "batch_size = 64\n",
        "earlystopping = callbacks.EarlyStopping(monitor = 'val_loss', mode = \"min\", patience = 3, verbose = 1, min_delta = 0.0001)\n",
        "\n",
        "history = model.fit(x_train, y_train, epochs = epochs, batch_size = batch_size, \n",
        "                    callbacks = [earlystopping], validation_split = 0.1)\n"
      ],
      "execution_count": null,
      "outputs": [
        {
          "output_type": "stream",
          "text": [
            "WARNING:tensorflow:Layer lstm will not use cuDNN kernels since it doesn't meet the criteria. It will use a generic GPU kernel as fallback when running on GPU.\n",
            "Epoch 1/10\n",
            "943/943 [==============================] - 255s 247ms/step - loss: 2.0251 - accuracy: 0.3082 - val_loss: 1.7063 - val_accuracy: 0.4275\n",
            "Epoch 2/10\n",
            "943/943 [==============================] - 234s 248ms/step - loss: 1.5065 - accuracy: 0.5168 - val_loss: 1.5466 - val_accuracy: 0.4951\n",
            "Epoch 3/10\n",
            "402/943 [===========>..................] - ETA: 2:15 - loss: 1.1288 - accuracy: 0.6548"
          ],
          "name": "stdout"
        }
      ]
    },
    {
      "cell_type": "markdown",
      "metadata": {
        "id": "U8ekdC2paNrk"
      },
      "source": [
        "The epoch stops at number 5 due to early call of detecting increase in validation's loss. The weighted average accuracy of model is 0.43 and loss of 0.45, f1 of 0.43. Given the task to predict labels as much as 23, it will be very hard to have high accuracy especially with highly inbalanced label distribution across out the whole dataset.\n",
        "\n",
        "*   The precision is how many are correctly classified mong that class\n",
        "*   The recall is how many of this class over the whole number of elements of this class or sensitivity\n",
        "*   The f1 score is the harmonic mean between the precision and the recall\n",
        "*   The support is how many occurence of the given class in the dataset\n",
        "\n",
        "\n",
        "\n"
      ]
    },
    {
      "cell_type": "code",
      "metadata": {
        "colab": {
          "base_uri": "https://localhost:8080/"
        },
        "id": "PxNweGNkX1-c",
        "outputId": "efc3a22f-1d26-4a4e-f05c-64ddbc3a5dbb"
      },
      "source": [
        "from sklearn.metrics import classification_report\n",
        "y_pred= model.predict(x_test, batch_size=batch_size, verbose=2)\n",
        "y_pred_classes = np.argmax(y_pred, axis=1)\n",
        "y_test_classes = np.argmax(y_test,axis=1)\n",
        "report = classification_report(y_test_classes, y_pred_classes)\n",
        "print(report)"
      ],
      "execution_count": null,
      "outputs": [
        {
          "output_type": "stream",
          "text": [
            "262/262 - 3s\n",
            "              precision    recall  f1-score   support\n",
            "\n",
            "           0       0.47      0.48      0.47      2411\n",
            "           2       0.19      0.18      0.19       704\n",
            "           3       0.43      0.27      0.34       413\n",
            "           4       0.45      0.23      0.30       407\n",
            "           5       0.52      0.53      0.52      4660\n",
            "           6       0.25      0.26      0.25      1100\n",
            "           8       0.47      0.56      0.51      4953\n",
            "           9       0.09      0.02      0.03       121\n",
            "          10       0.00      0.00      0.00        99\n",
            "          11       0.00      0.00      0.00         6\n",
            "          12       0.00      0.00      0.00        15\n",
            "          13       0.38      0.49      0.43      1017\n",
            "          14       0.00      0.00      0.00        15\n",
            "          15       0.00      0.00      0.00        63\n",
            "          16       0.20      0.02      0.03       118\n",
            "          17       0.00      0.00      0.00       148\n",
            "          18       0.00      0.00      0.00        83\n",
            "          19       0.00      0.00      0.00         3\n",
            "          20       0.03      0.00      0.01       269\n",
            "          21       0.00      0.00      0.00        20\n",
            "          22       0.22      0.08      0.12       123\n",
            "\n",
            "    accuracy                           0.45     16748\n",
            "   macro avg       0.18      0.15      0.15     16748\n",
            "weighted avg       0.43      0.45      0.43     16748\n",
            "\n"
          ],
          "name": "stdout"
        },
        {
          "output_type": "stream",
          "text": [
            "/usr/local/lib/python3.7/dist-packages/sklearn/metrics/_classification.py:1272: UndefinedMetricWarning: Precision and F-score are ill-defined and being set to 0.0 in labels with no predicted samples. Use `zero_division` parameter to control this behavior.\n",
            "  _warn_prf(average, modifier, msg_start, len(result))\n"
          ],
          "name": "stderr"
        }
      ]
    },
    {
      "cell_type": "code",
      "metadata": {
        "colab": {
          "base_uri": "https://localhost:8080/"
        },
        "id": "UJD_S1UiRYmr",
        "outputId": "e738bf89-8966-4639-ccaa-7c59cd52e03d"
      },
      "source": [
        "print(history.history.keys())"
      ],
      "execution_count": null,
      "outputs": [
        {
          "output_type": "stream",
          "text": [
            "dict_keys(['loss', 'accuracy', 'val_loss', 'val_accuracy'])\n"
          ],
          "name": "stdout"
        }
      ]
    },
    {
      "cell_type": "markdown",
      "metadata": {
        "id": "iOX2HiS-XOj_"
      },
      "source": [
        "The plot below of loss and accuracy shows that the model doesn't have the ability to generailzed all the data. The trained model is overfitted and several actions could improve this stage. The first is to use pre-trained embedding, and another is to limit the predicting label so that each class has sufficient amount of data."
      ]
    },
    {
      "cell_type": "code",
      "metadata": {
        "id": "GBS4ngbyHFW_",
        "colab": {
          "base_uri": "https://localhost:8080/",
          "height": 315
        },
        "outputId": "a4ef41cf-b124-4f5f-b793-e8ca9addfa8e"
      },
      "source": [
        "plt.plot(history.history['loss'])\n",
        "plt.plot(history.history['val_loss'])\n",
        "plt.title('model loss')\n",
        "plt.xlabel('epoch')\n",
        "plt.ylabel('loss')\n",
        "plt.legend(['train', 'test'], loc = 'upper left')\n",
        "plt.show()"
      ],
      "execution_count": null,
      "outputs": [
        {
          "output_type": "display_data",
          "data": {
            "image/png": "[encoded data removed]",
            "text/plain": [
              "<Figure size 432x288 with 1 Axes>"
            ]
          },
          "metadata": {
            "tags": [],
            "needs_background": "light"
          }
        }
      ]
    },
    {
      "cell_type": "code",
      "metadata": {
        "scrolled": false,
        "id": "GNZ5ekgnHFW_",
        "colab": {
          "base_uri": "https://localhost:8080/",
          "height": 315
        },
        "outputId": "d1e2b7c5-38b7-47d5-b129-eb9cf6797d6c"
      },
      "source": [
        "plt.plot(history.history['accuracy'])\n",
        "plt.plot(history.history['val_accuracy'])\n",
        "plt.title('model accuracy')\n",
        "plt.xlabel('epoch')\n",
        "plt.ylabel('accuracy')\n",
        "plt.legend(['train', 'test'], loc = 'upper left')\n",
        "plt.show()"
      ],
      "execution_count": null,
      "outputs": [
        {
          "output_type": "display_data",
          "data": {
            "image/png": "[encoded data removed]",
            "text/plain": [
              "<Figure size 432x288 with 1 Axes>"
            ]
          },
          "metadata": {
            "tags": [],
            "needs_background": "light"
          }
        }
      ]
    },
    {
      "cell_type": "markdown",
      "metadata": {
        "id": "aTyzFdx9bhHQ"
      },
      "source": [
        "In order to improve the model performance, one experiment could be conducted is to use pre-trained word vectors. The GloVe pretrained word vector package is downloaded through gensim's api."
      ]
    },
    {
      "cell_type": "code",
      "metadata": {
        "id": "De2kagoQ0U1x",
        "colab": {
          "base_uri": "https://localhost:8080/"
        },
        "outputId": "fbb3c354-fea3-41ae-866f-5957f57bf048"
      },
      "source": [
        "import gensim.downloader as api\n",
        "\n",
        "word_dim = 100\n",
        "glove_model = api.load(f\"glove-wiki-gigaword-{word_dim}\")"
      ],
      "execution_count": null,
      "outputs": [
        {
          "output_type": "stream",
          "text": [
            "[==================================================] 100.0% 128.1/128.1MB downloaded\n"
          ],
          "name": "stdout"
        }
      ]
    },
    {
      "cell_type": "markdown",
      "metadata": {
        "id": "2uTHmSewcCcA"
      },
      "source": [
        "Building a embedding_matrix for later input to the LSTM model. The embedding matrix is bascially building a matrix for each vocabulary in the movie description with the vector value from GloVe, if the vocabulary is not in the GloVe, use zeros instead and ignore those."
      ]
    },
    {
      "cell_type": "code",
      "metadata": {
        "id": "fjfj44Ld08ql"
      },
      "source": [
        "#not updating set to 0 \n",
        "\n",
        "embedding_matrix = np.zeros((len(word_index)+1, EMBEDDING_DIM))\n",
        "for word, i in word_index.items():\n",
        "    if word in glove_model:\n",
        "      # words not found in embedding index will be all-zeros.\n",
        "      embedding_matrix[i] = glove_model[word]"
      ],
      "execution_count": null,
      "outputs": []
    },
    {
      "cell_type": "markdown",
      "metadata": {
        "id": "3T_TaXaScnfK"
      },
      "source": [
        "For the LSTM model, all the structure layers are same as in the previous model except the embedding layer is now tied with embedding matrix just built."
      ]
    },
    {
      "cell_type": "code",
      "metadata": {
        "id": "ENjvkCaVHFXX",
        "colab": {
          "base_uri": "https://localhost:8080/"
        },
        "outputId": "57f6f802-7dbc-49b7-d4b2-595e0665b629"
      },
      "source": [
        "model_2 = Sequential()\n",
        "model_2.add(Embedding(len(word_index)+1, EMBEDDING_DIM,embeddings_initializer=keras.initializers.Constant(embedding_matrix),input_length = text.shape[1],trainable=False))\n",
        "model_2.add(SpatialDropout1D(0.2))\n",
        "model_2.add(LSTM(100, dropout = 0.2, recurrent_dropout = 0.2))\n",
        "model_2.add(Dense(23, activation = 'softmax'))\n",
        "opt = keras.optimizers.Adam(learning_rate = 0.001)\n",
        "model_2.compile(loss = 'categorical_crossentropy', optimizer = 'adam', metrics = ['accuracy'])\n",
        "\n",
        "epochs = 10\n",
        "batch_size = 64\n",
        "earlystopping = callbacks.EarlyStopping(monitor = 'val_loss', mode = \"min\", patience = 3, verbose = 1, min_delta = 0.0001)\n",
        "\n",
        "history = model_2.fit(x_train, y_train, epochs = epochs, batch_size = batch_size, \n",
        "                    callbacks = [earlystopping], validation_split = 0.1)"
      ],
      "execution_count": null,
      "outputs": [
        {
          "output_type": "stream",
          "text": [
            "WARNING:tensorflow:Layer lstm_2 will not use cuDNN kernels since it doesn't meet the criteria. It will use a generic GPU kernel as fallback when running on GPU.\n",
            "Epoch 1/10\n",
            "943/943 [==============================] - 150s 156ms/step - loss: 1.9253 - accuracy: 0.3472 - val_loss: 1.5949 - val_accuracy: 0.4627\n",
            "Epoch 2/10\n",
            "943/943 [==============================] - 144s 153ms/step - loss: 1.6170 - accuracy: 0.4483 - val_loss: 1.5487 - val_accuracy: 0.4766\n",
            "Epoch 3/10\n",
            "943/943 [==============================] - 146s 155ms/step - loss: 1.5635 - accuracy: 0.4641 - val_loss: 1.5107 - val_accuracy: 0.4793\n",
            "Epoch 4/10\n",
            "943/943 [==============================] - 144s 153ms/step - loss: 1.5418 - accuracy: 0.4696 - val_loss: 1.5019 - val_accuracy: 0.4816\n",
            "Epoch 5/10\n",
            "943/943 [==============================] - 145s 153ms/step - loss: 1.5071 - accuracy: 0.4772 - val_loss: 1.4969 - val_accuracy: 0.4855\n",
            "Epoch 6/10\n",
            "943/943 [==============================] - 142s 151ms/step - loss: 1.4932 - accuracy: 0.4896 - val_loss: 1.4857 - val_accuracy: 0.4893\n",
            "Epoch 7/10\n",
            "943/943 [==============================] - 142s 151ms/step - loss: 1.4937 - accuracy: 0.4873 - val_loss: 1.4719 - val_accuracy: 0.4957\n",
            "Epoch 8/10\n",
            "943/943 [==============================] - 139s 148ms/step - loss: 1.4662 - accuracy: 0.4964 - val_loss: 1.4677 - val_accuracy: 0.4985\n",
            "Epoch 9/10\n",
            "943/943 [==============================] - 143s 151ms/step - loss: 1.4458 - accuracy: 0.4989 - val_loss: 1.4586 - val_accuracy: 0.4946\n",
            "Epoch 10/10\n",
            "943/943 [==============================] - 145s 154ms/step - loss: 1.4487 - accuracy: 0.5024 - val_loss: 1.4573 - val_accuracy: 0.4928\n"
          ],
          "name": "stdout"
        }
      ]
    },
    {
      "cell_type": "markdown",
      "metadata": {
        "id": "2KpZ5KoJc8GN"
      },
      "source": [
        "In this experiment, the early stop call didn't occur and model is able to run the desired number of epoch times. All the evaluation metrics have some incresae compared to previous model. But still, model failed for some labels. Since class like 'Adult', 'Documentary' and etc are having lack of insufficient data. So the next experiment would to try threshold the class labels for predicting."
      ]
    },
    {
      "cell_type": "code",
      "metadata": {
        "colab": {
          "base_uri": "https://localhost:8080/"
        },
        "id": "Qhpvhsv-PyAc",
        "outputId": "d31395eb-eae7-4f3e-de23-1121c2144137"
      },
      "source": [
        "from sklearn.metrics import classification_report\n",
        "y_pred= model_2.predict(x_test, batch_size=batch_size, verbose=2)\n",
        "y_pred_classes = np.argmax(y_pred, axis=1)\n",
        "y_test_classes = np.argmax(y_test,axis=1)\n",
        "report = classification_report(y_test_classes, y_pred_classes)\n",
        "print(report)"
      ],
      "execution_count": null,
      "outputs": [
        {
          "output_type": "stream",
          "text": [
            "262/262 - 3s\n",
            "              precision    recall  f1-score   support\n",
            "\n",
            "           0       0.50      0.56      0.53      2411\n",
            "           2       0.34      0.13      0.19       704\n",
            "           3       0.42      0.33      0.37       413\n",
            "           4       0.54      0.38      0.44       407\n",
            "           5       0.53      0.58      0.56      4660\n",
            "           6       0.35      0.22      0.27      1100\n",
            "           8       0.51      0.63      0.56      4953\n",
            "           9       0.17      0.01      0.02       121\n",
            "          10       0.00      0.00      0.00        99\n",
            "          11       0.00      0.00      0.00         6\n",
            "          12       0.00      0.00      0.00        15\n",
            "          13       0.46      0.47      0.47      1017\n",
            "          14       0.00      0.00      0.00        15\n",
            "          15       0.00      0.00      0.00        63\n",
            "          16       0.00      0.00      0.00       118\n",
            "          17       0.00      0.00      0.00       148\n",
            "          18       0.07      0.02      0.04        83\n",
            "          19       0.00      0.00      0.00         3\n",
            "          20       0.00      0.00      0.00       269\n",
            "          21       0.00      0.00      0.00        20\n",
            "          22       0.27      0.21      0.24       123\n",
            "\n",
            "    accuracy                           0.50     16748\n",
            "   macro avg       0.20      0.17      0.18     16748\n",
            "weighted avg       0.46      0.50      0.47     16748\n",
            "\n"
          ],
          "name": "stdout"
        },
        {
          "output_type": "stream",
          "text": [
            "/usr/local/lib/python3.7/dist-packages/sklearn/metrics/_classification.py:1272: UndefinedMetricWarning: Precision and F-score are ill-defined and being set to 0.0 in labels with no predicted samples. Use `zero_division` parameter to control this behavior.\n",
            "  _warn_prf(average, modifier, msg_start, len(result))\n"
          ],
          "name": "stderr"
        }
      ]
    },
    {
      "cell_type": "markdown",
      "metadata": {
        "id": "UPt4m_H_eTUg"
      },
      "source": [
        "On big improvemnt in this experiment is that the model gains generalized ability for test data set as shown below in loss and accuracy graph."
      ]
    },
    {
      "cell_type": "code",
      "metadata": {
        "colab": {
          "base_uri": "https://localhost:8080/",
          "height": 315
        },
        "id": "PTy3mzk7AA63",
        "outputId": "05222315-6614-4611-8c20-78fe3299698d"
      },
      "source": [
        "plt.plot(history.history['loss'])\n",
        "plt.plot(history.history['val_loss'])\n",
        "plt.title('model loss')\n",
        "plt.xlabel('epoch')\n",
        "plt.ylabel('loss')\n",
        "plt.legend(['train', 'test'], loc = 'upper left')\n",
        "plt.show()"
      ],
      "execution_count": null,
      "outputs": [
        {
          "output_type": "display_data",
          "data": {
            "image/png": "[encoded data removed]",
            "text/plain": [
              "<Figure size 432x288 with 1 Axes>"
            ]
          },
          "metadata": {
            "tags": [],
            "needs_background": "light"
          }
        }
      ]
    },
    {
      "cell_type": "code",
      "metadata": {
        "colab": {
          "base_uri": "https://localhost:8080/",
          "height": 315
        },
        "id": "AJTAQ6alAGke",
        "outputId": "8a6ba608-b60a-4478-d563-6e80bd10b60b"
      },
      "source": [
        "plt.plot(history.history['accuracy'])\n",
        "plt.plot(history.history['val_accuracy'])\n",
        "plt.title('model accuracy')\n",
        "plt.xlabel('epoch')\n",
        "plt.ylabel('accuracy')\n",
        "plt.legend(['train', 'test'], loc = 'upper left')\n",
        "plt.show()"
      ],
      "execution_count": null,
      "outputs": [
        {
          "output_type": "display_data",
          "data": {
            "image/png": "[encoded data removed]",
            "text/plain": [
              "<Figure size 432x288 with 1 Axes>"
            ]
          },
          "metadata": {
            "tags": [],
            "needs_background": "light"
          }
        }
      ]
    },
    {
      "cell_type": "markdown",
      "metadata": {
        "id": "dQB5r-EDhkmZ"
      },
      "source": [
        "From here, the last experiemnt is to reduce the amount of labels to predict, threshold the label which has more than 1000 data in the dataset:\n",
        "*   Drama\n",
        "*   Comedy\n",
        "*   Action\n",
        "*   Crime\n",
        "*   Horror\n",
        "*   Adventure\n",
        "*   Animation\n",
        "*   Biography\n",
        "*   Thriller\n",
        "\n",
        "\n"
      ]
    },
    {
      "cell_type": "code",
      "metadata": {
        "colab": {
          "base_uri": "https://localhost:8080/"
        },
        "id": "2LVTg-1qike6",
        "outputId": "bc351124-526c-412e-fea9-851fb2452560"
      },
      "source": [
        "reduced_tokenizer = Tokenizer()\n",
        "reduced_tokenizer.fit_on_texts(reduced_df['description'].values)\n",
        "reduced_word_index = reduced_tokenizer.word_index\n",
        "print('Found %s unique tokens.' % len(reduced_word_index))\n",
        "\n",
        "reduced_text = reduced_tokenizer.texts_to_sequences(reduced_df['description'].values)\n",
        "reduced_text = pad_sequences(reduced_text, maxlen = MAX_SEQUENCE_LENGTH)\n",
        "print('Shape of data tensor:', reduced_text.shape)\n",
        "\n",
        "reduced_label = pd.get_dummies(reduced_df['first_label']).values\n",
        "reduced_label_names = list(pd.get_dummies(reduced_df['first_label']).columns)\n",
        "print(len(reduced_label_names))\n",
        "print('Shape of label:', reduced_label.shape)\n",
        "\n",
        "x_train_reduced, x_test_reduced, y_train_reduced, y_test_reduced = train_test_split(reduced_text, reduced_label, test_size = 0.2, random_state = 42, stratify=reduced_label)\n",
        "print(f\"train shape -- x: {x_train_reduced.shape}, y: {y_train_reduced.shape}\")\n",
        "print(f\"test shape -- x: {x_test_reduced.shape}, y: {y_test_reduced.shape}\")"
      ],
      "execution_count": null,
      "outputs": [
        {
          "output_type": "stream",
          "text": [
            "Found 79437 unique tokens.\n",
            "Shape of data tensor: (79666, 44)\n",
            "9\n",
            "Shape of label: (79666, 9)\n",
            "train shape -- x: (63732, 44), y: (63732, 9)\n",
            "test shape -- x: (15934, 44), y: (15934, 9)\n"
          ],
          "name": "stdout"
        }
      ]
    },
    {
      "cell_type": "code",
      "metadata": {
        "id": "r8UgjLc8j_6m"
      },
      "source": [
        "reduced_embedding_matrix = np.zeros((len(reduced_word_index)+1, EMBEDDING_DIM))\n",
        "for word, i in reduced_word_index.items():\n",
        "    if word in glove_model:\n",
        "      # words not found in embedding index will be all-zeros.\n",
        "      reduced_embedding_matrix[i] = glove_model[word]"
      ],
      "execution_count": null,
      "outputs": []
    },
    {
      "cell_type": "markdown",
      "metadata": {
        "id": "9lI4o_9ciiJV"
      },
      "source": [
        "All the hyperparameters are same as previous models except in the final activation layer it outputs 9 labels now."
      ]
    },
    {
      "cell_type": "code",
      "metadata": {
        "colab": {
          "base_uri": "https://localhost:8080/"
        },
        "id": "y-i6iznCkMnG",
        "outputId": "974dcdb6-5be1-475f-c056-61d3f00331df"
      },
      "source": [
        "final_model = Sequential()\n",
        "final_model.add(Embedding(len(reduced_word_index)+1, EMBEDDING_DIM,embeddings_initializer=keras.initializers.Constant(reduced_embedding_matrix),input_length = reduced_text.shape[1],trainable=False))\n",
        "final_model.add(SpatialDropout1D(0.2))\n",
        "final_model.add(LSTM(100, dropout = 0.2, recurrent_dropout = 0.2))\n",
        "final_model.add(Dense(9, activation = 'softmax'))\n",
        "opt = keras.optimizers.Adam(learning_rate = 0.001)\n",
        "final_model.compile(loss = 'categorical_crossentropy', optimizer = 'adam', metrics = ['accuracy'])\n",
        "\n",
        "epochs = 10\n",
        "batch_size = 64\n",
        "earlystopping = callbacks.EarlyStopping(monitor = 'val_loss', mode = \"min\", patience = 3, verbose = 1, min_delta = 0.0001)\n",
        "\n",
        "history_final = final_model.fit(x_train_reduced, y_train_reduced, epochs = epochs, batch_size = batch_size, \n",
        "                    callbacks = [earlystopping], validation_split = 0.1)"
      ],
      "execution_count": null,
      "outputs": [
        {
          "output_type": "stream",
          "text": [
            "WARNING:tensorflow:Layer lstm_8 will not use cuDNN kernels since it doesn't meet the criteria. It will use a generic GPU kernel as fallback when running on GPU.\n",
            "Epoch 1/10\n",
            "897/897 [==============================] - 142s 155ms/step - loss: 1.6225 - accuracy: 0.3855 - val_loss: 1.3796 - val_accuracy: 0.4870\n",
            "Epoch 2/10\n",
            "897/897 [==============================] - 139s 155ms/step - loss: 1.4122 - accuracy: 0.4749 - val_loss: 1.3292 - val_accuracy: 0.4987\n",
            "Epoch 3/10\n",
            "897/897 [==============================] - 137s 153ms/step - loss: 1.3760 - accuracy: 0.4864 - val_loss: 1.3188 - val_accuracy: 0.5107\n",
            "Epoch 4/10\n",
            "897/897 [==============================] - 134s 150ms/step - loss: 1.3513 - accuracy: 0.4961 - val_loss: 1.2898 - val_accuracy: 0.5180\n",
            "Epoch 5/10\n",
            "897/897 [==============================] - 140s 156ms/step - loss: 1.3299 - accuracy: 0.5018 - val_loss: 1.2913 - val_accuracy: 0.5215\n",
            "Epoch 6/10\n",
            "897/897 [==============================] - 141s 157ms/step - loss: 1.3077 - accuracy: 0.5115 - val_loss: 1.2821 - val_accuracy: 0.5220\n",
            "Epoch 7/10\n",
            "897/897 [==============================] - 140s 156ms/step - loss: 1.2946 - accuracy: 0.5174 - val_loss: 1.2812 - val_accuracy: 0.5226\n",
            "Epoch 8/10\n",
            "897/897 [==============================] - 140s 156ms/step - loss: 1.2805 - accuracy: 0.5224 - val_loss: 1.2803 - val_accuracy: 0.5207\n",
            "Epoch 9/10\n",
            "897/897 [==============================] - 142s 158ms/step - loss: 1.2715 - accuracy: 0.5267 - val_loss: 1.2738 - val_accuracy: 0.5221\n",
            "Epoch 10/10\n",
            "897/897 [==============================] - 139s 155ms/step - loss: 1.2519 - accuracy: 0.5335 - val_loss: 1.2639 - val_accuracy: 0.5297\n"
          ],
          "name": "stdout"
        }
      ]
    },
    {
      "cell_type": "markdown",
      "metadata": {
        "id": "HCvnS3G3iyWE"
      },
      "source": [
        "The evaluation results for final model are better than the previous models and achieved final weighted average precision of 0.51 and recall of 0.52. Model didn't fail on any single label and able to produce probability for each."
      ]
    },
    {
      "cell_type": "code",
      "metadata": {
        "colab": {
          "base_uri": "https://localhost:8080/"
        },
        "id": "dfyIp26Nke04",
        "outputId": "ba264315-0392-4f31-b2ce-6393fdc44230"
      },
      "source": [
        "y_pred_final= final_model.predict(x_test_reduced, batch_size=batch_size, verbose=2)\n",
        "y_pred_classes_final = np.argmax(y_pred_final, axis=1)\n",
        "y_test_classes_final = np.argmax(y_test_reduced,axis=1)\n",
        "report_final = classification_report(y_test_classes_final, y_pred_classes_final)\n",
        "print(report_final)"
      ],
      "execution_count": null,
      "outputs": [
        {
          "output_type": "stream",
          "text": [
            "249/249 - 3s\n",
            "              precision    recall  f1-score   support\n",
            "\n",
            "           0       0.53      0.52      0.53      2411\n",
            "           1       0.33      0.16      0.22       704\n",
            "           2       0.51      0.32      0.39       413\n",
            "           3       0.61      0.38      0.47       407\n",
            "           4       0.56      0.60      0.58      4660\n",
            "           5       0.38      0.19      0.26      1101\n",
            "           6       0.52      0.63      0.57      4953\n",
            "           7       0.45      0.50      0.47      1016\n",
            "           8       0.29      0.01      0.01       269\n",
            "\n",
            "    accuracy                           0.52     15934\n",
            "   macro avg       0.46      0.37      0.39     15934\n",
            "weighted avg       0.51      0.52      0.51     15934\n",
            "\n"
          ],
          "name": "stdout"
        }
      ]
    },
    {
      "cell_type": "code",
      "metadata": {
        "colab": {
          "base_uri": "https://localhost:8080/"
        },
        "id": "6aLtVw9i3MXM",
        "outputId": "02ce8667-3140-4ce2-c432-fd464801ec26"
      },
      "source": [
        "print(history_final.history.keys())"
      ],
      "execution_count": null,
      "outputs": [
        {
          "output_type": "stream",
          "text": [
            "dict_keys(['loss', 'accuracy', 'val_loss', 'val_accuracy'])\n"
          ],
          "name": "stdout"
        }
      ]
    },
    {
      "cell_type": "code",
      "metadata": {
        "colab": {
          "base_uri": "https://localhost:8080/",
          "height": 315
        },
        "id": "FnfATiW_lC3z",
        "outputId": "bec946cf-3aae-4ebd-fbc4-d009cec1788d"
      },
      "source": [
        "plt.plot(history_final.history['loss'])\n",
        "plt.plot(history_final.history['val_loss'])\n",
        "plt.title('model loss')\n",
        "plt.xlabel('epoch')\n",
        "plt.ylabel('loss')\n",
        "plt.legend(['train', 'test'], loc = 'upper left')\n",
        "plt.show()"
      ],
      "execution_count": null,
      "outputs": [
        {
          "output_type": "display_data",
          "data": {
            "image/png": "[encoded data removed]",
            "text/plain": [
              "<Figure size 432x288 with 1 Axes>"
            ]
          },
          "metadata": {
            "tags": [],
            "needs_background": "light"
          }
        }
      ]
    },
    {
      "cell_type": "code",
      "metadata": {
        "colab": {
          "base_uri": "https://localhost:8080/",
          "height": 315
        },
        "id": "8nktxePtlJWb",
        "outputId": "6d9db40e-dd47-4e02-8cbc-38dff0138fca"
      },
      "source": [
        "plt.plot(history_final.history['accuracy'])\n",
        "plt.plot(history_final.history['val_accuracy'])\n",
        "plt.title('model accuracy')\n",
        "plt.xlabel('epoch')\n",
        "plt.ylabel('accuracy')\n",
        "plt.legend(['train', 'test'], loc = 'upper left')\n",
        "plt.show()"
      ],
      "execution_count": null,
      "outputs": [
        {
          "output_type": "display_data",
          "data": {
            "image/png": "[encoded data removed]",
            "text/plain": [
              "<Figure size 432x288 with 1 Axes>"
            ]
          },
          "metadata": {
            "tags": [],
            "needs_background": "light"
          }
        }
      ]
    },
    {
      "cell_type": "markdown",
      "metadata": {
        "id": "NbqH_yIEnQ-u"
      },
      "source": [
        "### Results for all the models:"
      ]
    },
    {
      "cell_type": "markdown",
      "metadata": {
        "id": "UF3OcTIDrzlU"
      },
      "source": [
        "| Model | Weighted F1 score | \n",
        "| --- | ----------- |\n",
        "| Embedding Layer/full set of classes | 0.43 |\n",
        "| Pre-trained word vectors/ full set of classes|  0.47|\n",
        "|Pre-trained word vectors/ reduced classes| 0.51| \n",
        "\n"
      ]
    },
    {
      "cell_type": "markdown",
      "metadata": {
        "id": "MT_3hR0dquFY"
      },
      "source": [
        "Challenges:\n",
        "*   Description was not complete \n",
        "*   Class label (multi label)\n",
        "*   Highly imblance dataset\n",
        "\n",
        "Future Work\n",
        "*   Trying other models as CNN\n",
        "*   Multi-label classification\n",
        "*   Hyperparameter tunning on the model\n",
        "*   Ensemble LSTM and CNN\n",
        "*   Try different pretrained word vectors (Word2Vec)\n",
        "*   Using other deep learning framework as Pytorch or TensorFlow\n",
        "*   Adding geological embedding, and 'country' feature. Maybe for certain country, there is a tendency to have certain genre type produce.\n",
        "\n",
        "\n",
        "\n",
        "\n"
      ]
    }
  ]
}